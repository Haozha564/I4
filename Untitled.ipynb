{
 "cells": [
  {
   "cell_type": "code",
   "execution_count": 29,
   "id": "fd0cb930",
   "metadata": {},
   "outputs": [
    {
     "name": "stdout",
     "output_type": "stream",
     "text": [
      "+------+---+-------------+-------------+----------+------+---------------+------------+--------+-------+-----+-----+-----+---------+-------+------------+\n",
      "|Gender|age|    education|currentSmoker|cigsPerDay|BPMeds|prevalentStroke|prevalentHyp|diabetes|totChol|sysBP|diaBP|  BMI|heartRate|glucose|Heart_stroke|\n",
      "+------+---+-------------+-------------+----------+------+---------------+------------+--------+-------+-----+-----+-----+---------+-------+------------+\n",
      "|  Male| 39| postgraduate|            0|         0|     0|             no|           0|       0|    195|106.0| 70.0|26.97|       80|     77|          No|\n",
      "|Female| 46|primaryschool|            0|         0|     0|             no|           0|       0|    250|121.0| 81.0|28.73|       95|     76|          No|\n",
      "|  Male| 48|   uneducated|            1|        20|     0|             no|           0|       0|    245|127.5| 80.0|25.34|       75|     70|          No|\n",
      "|Female| 61|     graduate|            1|        30|     0|             no|           1|       0|    225|150.0| 95.0|28.58|       65|    103|         yes|\n",
      "|Female| 46|     graduate|            1|        23|     0|             no|           0|       0|    285|130.0| 84.0| 23.1|       85|     85|          No|\n",
      "|Female| 43|primaryschool|            0|         0|     0|             no|           1|       0|    228|180.0|110.0| 30.3|       77|     99|          No|\n",
      "|Female| 63|   uneducated|            0|         0|     0|             no|           0|       0|    205|138.0| 71.0|33.11|       60|     85|         yes|\n",
      "|Female| 45|primaryschool|            1|        20|     0|             no|           0|       0|    313|100.0| 71.0|21.68|       79|     78|          No|\n",
      "|  Male| 52|   uneducated|            0|         0|     0|             no|           1|       0|    260|141.5| 89.0|26.36|       76|     79|          No|\n",
      "|  Male| 43|   uneducated|            1|        30|     0|             no|           1|       0|    225|162.0|107.0|23.61|       93|     88|          No|\n",
      "|Female| 50|   uneducated|            0|         0|     0|             no|           0|       0|    254|133.0| 76.0|22.91|       75|     76|          No|\n",
      "|Female| 43|primaryschool|            0|         0|     0|             no|           0|       0|    247|131.0| 88.0|27.64|       72|     61|          No|\n",
      "|  Male| 46|   uneducated|            1|        15|     0|             no|           1|       0|    294|142.0| 94.0|26.31|       98|     64|          No|\n",
      "|Female| 41|     graduate|            0|         0|     1|             no|           1|       0|    332|124.0| 88.0|31.31|       65|     84|          No|\n",
      "|Female| 39|primaryschool|            1|         9|     0|             no|           0|       0|    226|114.0| 64.0|22.35|       85|      0|          No|\n",
      "|Female| 38|primaryschool|            1|        20|     0|             no|           1|       0|    221|140.0| 90.0|21.35|       95|     70|         yes|\n",
      "|  Male| 48|     graduate|            1|        10|     0|             no|           1|       0|    232|138.0| 90.0|22.37|       64|     72|          No|\n",
      "|Female| 46|primaryschool|            1|        20|     0|             no|           0|       0|    291|112.0| 78.0|23.38|       80|     89|         yes|\n",
      "|Female| 38|primaryschool|            1|         5|     0|             no|           0|       0|    195|122.0| 84.5|23.24|       75|     78|          No|\n",
      "|  Male| 41|primaryschool|            0|         0|     0|             no|           0|       0|    195|139.0| 88.0|26.88|       85|     65|          No|\n",
      "+------+---+-------------+-------------+----------+------+---------------+------------+--------+-------+-----+-----+-----+---------+-------+------------+\n",
      "only showing top 20 rows\n",
      "\n",
      "root\n",
      " |-- Gender: string (nullable = true)\n",
      " |-- age: integer (nullable = true)\n",
      " |-- education: string (nullable = true)\n",
      " |-- currentSmoker: integer (nullable = true)\n",
      " |-- cigsPerDay: integer (nullable = true)\n",
      " |-- BPMeds: integer (nullable = true)\n",
      " |-- prevalentStroke: string (nullable = true)\n",
      " |-- prevalentHyp: integer (nullable = true)\n",
      " |-- diabetes: integer (nullable = true)\n",
      " |-- totChol: integer (nullable = true)\n",
      " |-- sysBP: double (nullable = true)\n",
      " |-- diaBP: double (nullable = true)\n",
      " |-- BMI: double (nullable = true)\n",
      " |-- heartRate: integer (nullable = true)\n",
      " |-- glucose: integer (nullable = true)\n",
      " |-- Heart_stroke: string (nullable = true)\n",
      "\n"
     ]
    }
   ],
   "source": [
    "import pandas as pd\n",
    "import numpy as np\n",
    "import matplotlib.pyplot as plt\n",
    "import seaborn as sns\n",
    "from imblearn.over_sampling import RandomOverSampler\n",
    "from sklearn.feature_selection import f_classif, chi2\n",
    "from sklearn.preprocessing import LabelEncoder\n",
    "from sklearn.model_selection import train_test_split\n",
    "from sklearn.linear_model import LogisticRegression\n",
    "from sklearn.metrics import confusion_matrix, accuracy_score\n",
    "from sklearn.tree import DecisionTreeClassifier\n",
    "from sklearn.tree import plot_tree\n",
    "from sklearn.ensemble import RandomForestClassifier\n",
    "from sklearn.metrics import roc_auc_score\n",
    "from imblearn.under_sampling import RandomUnderSampler\n",
    "from pyspark.sql import SparkSession\n",
    "\n",
    "spark = SparkSession.builder.appName(\"DataAnalysis\").getOrCreate()\n",
    "data = spark.read.csv('data.csv', header=True, inferSchema=True)\n",
    "data.show()\n",
    "data.printSchema()\n"
   ]
  },
  {
   "cell_type": "code",
   "execution_count": 30,
   "id": "62daa0a0",
   "metadata": {},
   "outputs": [
    {
     "name": "stderr",
     "output_type": "stream",
     "text": [
      "23/10/12 19:15:04 WARN DAGScheduler: Broadcasting large task binary with size 1027.8 KiB\n",
      "[Stage 15872:===========================>                           (1 + 1) / 2]\r"
     ]
    },
    {
     "name": "stdout",
     "output_type": "stream",
     "text": [
      "+-------+------+-----------------+----------+-------------------+-----------------+-------------------+---------------+-------------------+--------------------+------------------+------------------+------------------+-----------------+------------------+------------------+------------+\n",
      "|summary|Gender|              age| education|      currentSmoker|       cigsPerDay|             BPMeds|prevalentStroke|       prevalentHyp|            diabetes|           totChol|             sysBP|             diaBP|              BMI|         heartRate|           glucose|Heart_stroke|\n",
      "+-------+------+-----------------+----------+-------------------+-----------------+-------------------+---------------+-------------------+--------------------+------------------+------------------+------------------+-----------------+------------------+------------------+------------+\n",
      "|  count|  4238|             4238|      4238|               4238|             4238|               4238|           4238|               4238|                4238|              4238|              4238|              4238|             4238|              4238|              4238|        4238|\n",
      "|   mean|  null|49.58494572911751|       0.0|0.49410099103350635|8.941481831052384| 0.0292590844738084|           null|0.31052383199622463|0.025719679093912224|233.92873997168476|132.35240679565834| 82.89346389806512|25.68633081642283| 75.86101934874941|  74.4624823029731|        null|\n",
      "| stddev|  null|8.572159925118484|       0.0| 0.5000241969070374|11.90239876710419|0.16855175469615044|           null|0.46276269567370154| 0.15831642786899564|   51.169477529134|22.038096643544563|11.910849600225525|4.420935161233838|12.081533455989659|32.869879332843894|        null|\n",
      "|    min|Female|               32|         0|                  0|                0|                  0|             no|                  0|                   0|                 0|              83.5|              48.0|              0.0|                 0|                 0|          No|\n",
      "|    max|  Male|               70|uneducated|                  1|               70|                  1|            yes|                  1|                   1|               696|             295.0|             142.5|             56.8|               143|               394|         yes|\n",
      "+-------+------+-----------------+----------+-------------------+-----------------+-------------------+---------------+-------------------+--------------------+------------------+------------------+------------------+-----------------+------------------+------------------+------------+\n",
      "\n"
     ]
    },
    {
     "name": "stderr",
     "output_type": "stream",
     "text": [
      "                                                                                \r"
     ]
    }
   ],
   "source": [
    "data.describe().show()\n"
   ]
  },
  {
   "cell_type": "code",
   "execution_count": 31,
   "id": "cf73f2ec",
   "metadata": {},
   "outputs": [
    {
     "name": "stderr",
     "output_type": "stream",
     "text": [
      "23/10/12 19:15:05 WARN DAGScheduler: Broadcasting large task binary with size 1728.8 KiB\n",
      "23/10/12 19:15:06 WARN DAGScheduler: Broadcasting large task binary with size 2.6 MiB\n"
     ]
    },
    {
     "data": {
      "image/png": "[encoded data removed]",
      "text/plain": [
       "<Figure size 432x288 with 1 Axes>"
      ]
     },
     "metadata": {
      "needs_background": "light"
     },
     "output_type": "display_data"
    }
   ],
   "source": [
    "heart_stroke_counts = data.groupBy(\"Heart_stroke\").count().collect()\n",
    "\n",
    "# Use matplotlib for plotting\n",
    "import matplotlib.pyplot as plt\n",
    "labels, counts = zip(*heart_stroke_counts)\n",
    "plt.bar(labels, counts, color='skyblue')\n",
    "plt.title('Distribution of Heart Stroke')\n",
    "plt.xlabel('Heart Stroke')\n",
    "plt.ylabel('Count')\n",
    "plt.show()\n"
   ]
  },
  {
   "cell_type": "code",
   "execution_count": 32,
   "id": "6a19774f",
   "metadata": {},
   "outputs": [
    {
     "name": "stderr",
     "output_type": "stream",
     "text": [
      "[Stage 15883:>                                                      (0 + 1) / 1]\r"
     ]
    },
    {
     "name": "stdout",
     "output_type": "stream",
     "text": [
      "+------+---+---------+-------------+----------+------+---------------+------------+--------+-------+-----+-----+---+---------+-------+------------+\n",
      "|Gender|age|education|currentSmoker|cigsPerDay|BPMeds|prevalentStroke|prevalentHyp|diabetes|totChol|sysBP|diaBP|BMI|heartRate|glucose|Heart_stroke|\n",
      "+------+---+---------+-------------+----------+------+---------------+------------+--------+-------+-----+-----+---+---------+-------+------------+\n",
      "|     0|  0|        0|            0|         0|     0|              0|           0|       0|      0|    0|    0|  0|        0|      0|           0|\n",
      "+------+---+---------+-------------+----------+------+---------------+------------+--------+-------+-----+-----+---+---------+-------+------------+\n",
      "\n"
     ]
    },
    {
     "name": "stderr",
     "output_type": "stream",
     "text": [
      "                                                                                \r"
     ]
    }
   ],
   "source": [
    "from pyspark.sql.functions import isnan, when, count, col\n",
    "\n",
    "missing_data = data.select([count(when(isnan(c) | col(c).isNull(), c)).alias(c) for c in data.columns])\n",
    "missing_data.show()\n"
   ]
  },
  {
   "cell_type": "code",
   "execution_count": 33,
   "id": "c9da71f2",
   "metadata": {},
   "outputs": [
    {
     "name": "stderr",
     "output_type": "stream",
     "text": [
      "23/10/12 19:15:08 WARN DAGScheduler: Broadcasting large task binary with size 3.7 MiB\n",
      "23/10/12 19:15:10 WARN DAGScheduler: Broadcasting large task binary with size 4.6 MiB\n",
      "23/10/12 19:15:12 WARN DAGScheduler: Broadcasting large task binary with size 5.4 MiB\n",
      "23/10/12 19:15:13 WARN DAGScheduler: Broadcasting large task binary with size 5.9 MiB\n",
      "23/10/12 19:15:15 WARN DAGScheduler: Broadcasting large task binary with size 5.8 MiB\n",
      "                                                                                \r"
     ]
    },
    {
     "data": {
      "text/plain": [
       "{'age': 0,\n",
       " 'currentSmoker': 0,\n",
       " 'cigsPerDay': 18,\n",
       " 'BPMeds': 124,\n",
       " 'prevalentHyp': 0,\n",
       " 'diabetes': 109,\n",
       " 'totChol': 145,\n",
       " 'sysBP': 210,\n",
       " 'diaBP': 156,\n",
       " 'BMI': 166,\n",
       " 'heartRate': 215,\n",
       " 'glucose': 619}"
      ]
     },
     "execution_count": 33,
     "metadata": {},
     "output_type": "execute_result"
    }
   ],
   "source": [
    "outliers = {}\n",
    "for col in data.columns:\n",
    "    if str(data.schema[col].dataType) in [\"IntegerType\", \"FloatType\", \"DoubleType\"]:\n",
    "        quantiles = data.approxQuantile(col, [0.25, 0.75], 0.05)\n",
    "        Q1 = quantiles[0]\n",
    "        Q3 = quantiles[1]\n",
    "        IQR = Q3 - Q1\n",
    "        lower_bound = Q1 - 1.5 * IQR\n",
    "        upper_bound = Q3 + 1.5 * IQR\n",
    "        outliers_count = data.filter((data[col] < lower_bound) | (data[col] > upper_bound)).count()\n",
    "        outliers[col] = outliers_count\n",
    "outliers"
   ]
  },
  {
   "cell_type": "code",
   "execution_count": 34,
   "id": "adf62af6",
   "metadata": {},
   "outputs": [
    {
     "data": {
      "image/png": "[encoded data removed]",
      "text/plain": [
       "<Figure size 576x432 with 1 Axes>"
      ]
     },
     "metadata": {
      "needs_background": "light"
     },
     "output_type": "display_data"
    }
   ],
   "source": [
    "df_plot = pd.DataFrame({'Prevalent Stroke': labels, 'Count': counts})\n",
    "\n",
    "plt.figure(figsize=(8, 6))\n",
    "sns.barplot(x='Prevalent Stroke', y='Count', data=df_plot)\n",
    "plt.title('Distribution of prevalentStroke Variable')\n",
    "plt.show()\n"
   ]
  },
  {
   "cell_type": "code",
   "execution_count": 35,
   "id": "8ca4cbea",
   "metadata": {},
   "outputs": [],
   "source": [
    "data_new = data.drop(\"prevalentStroke\")"
   ]
  },
  {
   "cell_type": "code",
   "execution_count": 36,
   "id": "a4f0ca1e",
   "metadata": {},
   "outputs": [
    {
     "name": "stderr",
     "output_type": "stream",
     "text": [
      "23/10/12 19:15:16 WARN DAGScheduler: Broadcasting large task binary with size 4.1 MiB\n"
     ]
    },
    {
     "name": "stdout",
     "output_type": "stream",
     "text": [
      "+------+---+-------------+-------------+----------+------+------------+--------+-------+-----+-----+-----+---------+-------+------------+\n",
      "|Gender|age|    education|currentSmoker|cigsPerDay|BPMeds|prevalentHyp|diabetes|totChol|sysBP|diaBP|  BMI|heartRate|glucose|Heart_stroke|\n",
      "+------+---+-------------+-------------+----------+------+------------+--------+-------+-----+-----+-----+---------+-------+------------+\n",
      "|  Male| 39| postgraduate|            0|         0|     0|           0|       0|    195|106.0| 70.0|26.97|       80|     77|          No|\n",
      "|Female| 46|primaryschool|            0|         0|     0|           0|       0|    250|121.0| 81.0|28.73|       95|     76|          No|\n",
      "|  Male| 48|   uneducated|            1|        20|     0|           0|       0|    245|127.5| 80.0|25.34|       75|     70|          No|\n",
      "|Female| 61|     graduate|            1|        30|     0|           1|       0|    225|150.0| 95.0|28.58|       65|    103|         yes|\n",
      "|Female| 46|     graduate|            1|        23|     0|           0|       0|    285|130.0| 84.0| 23.1|       85|     85|          No|\n",
      "|Female| 43|primaryschool|            0|         0|     0|           1|       0|    228|180.0|110.0| 30.3|       77|     99|          No|\n",
      "|Female| 63|   uneducated|            0|         0|     0|           0|       0|    205|138.0| 71.0|33.11|       60|     85|         yes|\n",
      "|Female| 45|primaryschool|            1|        20|     0|           0|       0|    313|100.0| 71.0|21.68|       79|     78|          No|\n",
      "|  Male| 52|   uneducated|            0|         0|     0|           1|       0|    260|141.5| 89.0|26.36|       76|     79|          No|\n",
      "|  Male| 43|   uneducated|            1|        30|     0|           1|       0|    225|162.0|107.0|23.61|       93|     88|          No|\n",
      "|Female| 50|   uneducated|            0|         0|     0|           0|       0|    254|133.0| 76.0|22.91|       75|     76|          No|\n",
      "|Female| 43|primaryschool|            0|         0|     0|           0|       0|    247|131.0| 88.0|27.64|       72|     61|          No|\n",
      "|  Male| 46|   uneducated|            1|        15|     0|           1|       0|    294|142.0| 94.0|26.31|       98|     64|          No|\n",
      "|Female| 41|     graduate|            0|         0|     1|           1|       0|    332|124.0| 88.0|31.31|       65|     84|          No|\n",
      "|Female| 39|primaryschool|            1|         9|     0|           0|       0|    226|114.0| 64.0|22.35|       85|      0|          No|\n",
      "|Female| 38|primaryschool|            1|        20|     0|           1|       0|    221|140.0| 90.0|21.35|       95|     70|         yes|\n",
      "|  Male| 48|     graduate|            1|        10|     0|           1|       0|    232|138.0| 90.0|22.37|       64|     72|          No|\n",
      "|Female| 46|primaryschool|            1|        20|     0|           0|       0|    291|112.0| 78.0|23.38|       80|     89|         yes|\n",
      "|Female| 38|primaryschool|            1|         5|     0|           0|       0|    195|122.0| 84.5|23.24|       75|     78|          No|\n",
      "|  Male| 41|primaryschool|            0|         0|     0|           0|       0|    195|139.0| 88.0|26.88|       85|     65|          No|\n",
      "+------+---+-------------+-------------+----------+------+------------+--------+-------+-----+-----+-----+---------+-------+------------+\n",
      "only showing top 20 rows\n",
      "\n"
     ]
    },
    {
     "name": "stderr",
     "output_type": "stream",
     "text": [
      "                                                                                \r"
     ]
    }
   ],
   "source": [
    "data_new.show()"
   ]
  },
  {
   "cell_type": "code",
   "execution_count": 37,
   "id": "3093309e",
   "metadata": {},
   "outputs": [
    {
     "name": "stderr",
     "output_type": "stream",
     "text": [
      "23/10/12 19:15:17 WARN DAGScheduler: Broadcasting large task binary with size 1449.1 KiB\n"
     ]
    }
   ],
   "source": [
    "# Get the number of rows in the DataFrame\n",
    "num_rows = data_new.count()\n",
    "\n",
    "# Randomly select 10 indices\n",
    "missing_rows = np.random.choice(num_rows, size=10, replace=False)\n",
    "\n",
    "# Convert the DataFrame to a Pandas DataFrame to introduce NaNs\n",
    "data_new_pd = data_new.toPandas()\n",
    "\n",
    "# Introduce NaNs in the 'age' and 'sysBP' columns\n",
    "data_new_pd.loc[missing_rows, 'age'] = np.nan\n",
    "data_new_pd.loc[missing_rows, 'sysBP'] = np.nan\n",
    "\n",
    "# Convert the Pandas DataFrame back to a PySpark DataFrame\n",
    "data_new = spark.createDataFrame(data_new_pd)\n",
    "data_cleaned = data_new.dropna()\n"
   ]
  },
  {
   "cell_type": "code",
   "execution_count": 38,
   "id": "2b01cd08",
   "metadata": {},
   "outputs": [
    {
     "name": "stderr",
     "output_type": "stream",
     "text": [
      "23/10/12 19:15:18 WARN DAGScheduler: Broadcasting large task binary with size 3.0 MiB\n",
      "23/10/12 19:15:21 WARN DAGScheduler: Broadcasting large task binary with size 1033.0 KiB\n"
     ]
    },
    {
     "data": {
      "text/plain": [
       "{'age': 0, 'sysBP': 63, 'diaBP': 64, 'BMI': 139}"
      ]
     },
     "execution_count": 38,
     "metadata": {},
     "output_type": "execute_result"
    }
   ],
   "source": [
    "cols_to_check = ['age', 'sysBP']  # Add other columns as needed\n",
    "bounds = {}\n",
    "\n",
    "for col in cols_to_check:\n",
    "    quantiles = data_cleaned.approxQuantile(col, [0.25, 0.75], 0.05)\n",
    "    Q1 = quantiles[0]\n",
    "    Q3 = quantiles[1]\n",
    "    IQR = Q3 - Q1\n",
    "    bounds[col] = [Q1 - 1.5 * IQR, Q3 + 1.5 * IQR]\n",
    "\n",
    "# Filter the data\n",
    "for col, bound in bounds.items():\n",
    "    data_cleaned = data_cleaned.filter((data_cleaned[col] >= bound[0]) & (data_cleaned[col] <= bound[1]))\n",
    "    \n",
    "outliers = {}\n",
    "for col in data_cleaned.columns:\n",
    "    if str(data_cleaned.schema[col].dataType) in [\"IntegerType\", \"FloatType\", \"DoubleType\"]:\n",
    "        quantiles = data_cleaned.approxQuantile(col, [0.25, 0.75], 0.05)\n",
    "        Q1 = quantiles[0]\n",
    "        Q3 = quantiles[1]\n",
    "        IQR = Q3 - Q1\n",
    "        lower_bound = Q1 - 1.5 * IQR\n",
    "        upper_bound = Q3 + 1.5 * IQR\n",
    "        outliers_count = data_cleaned.filter((data_cleaned[col] < lower_bound) | (data_cleaned[col] > upper_bound)).count()\n",
    "        outliers[col] = outliers_count\n",
    "outliers"
   ]
  },
  {
   "cell_type": "code",
   "execution_count": 39,
   "id": "3f7aabd0",
   "metadata": {},
   "outputs": [
    {
     "data": {
      "text/plain": [
       "No     0.5\n",
       "yes    0.5\n",
       "Name: Heart_stroke, dtype: float64"
      ]
     },
     "execution_count": 39,
     "metadata": {},
     "output_type": "execute_result"
    }
   ],
   "source": [
    "data_cleaned_pd = data_cleaned.toPandas()\n",
    "\n",
    "X = data_cleaned_pd.drop('Heart_stroke', axis=1)\n",
    "y = data_cleaned_pd['Heart_stroke']\n",
    "\n",
    "\n",
    "ros = RandomOverSampler(random_state=42)\n",
    "\n",
    "X_resampled, y_resampled = ros.fit_resample(X, y)\n",
    "\n",
    "data_resampled = pd.concat([X_resampled, y_resampled], axis=1)\n",
    "\n",
    "heart_stroke_dist = data_resampled['Heart_stroke'].value_counts(normalize=True)\n",
    "heart_stroke_dist\n"
   ]
  },
  {
   "cell_type": "code",
   "execution_count": 40,
   "id": "d35f748d",
   "metadata": {},
   "outputs": [
    {
     "data": {
      "image/png": "[encoded data removed]",
      "text/plain": [
       "<Figure size 576x432 with 1 Axes>"
      ]
     },
     "metadata": {
      "needs_background": "light"
     },
     "output_type": "display_data"
    },
    {
     "name": "stderr",
     "output_type": "stream",
     "text": [
      "23/10/12 19:15:22 WARN DAGScheduler: Broadcasting large task binary with size 1701.2 KiB\n"
     ]
    }
   ],
   "source": [
    "heart_stroke_dist.plot(kind='bar', figsize=(8, 6), color='skyblue')\n",
    "plt.title('Distribution of Heart Stroke')\n",
    "plt.xlabel('Heart Stroke')\n",
    "plt.ylabel('Count')\n",
    "plt.xticks(rotation=0)\n",
    "plt.show()"
   ]
  },
  {
   "cell_type": "code",
   "execution_count": 41,
   "id": "665d891c",
   "metadata": {},
   "outputs": [
    {
     "name": "stderr",
     "output_type": "stream",
     "text": [
      "                                                                                \r"
     ]
    },
    {
     "name": "stdout",
     "output_type": "stream",
     "text": [
      "+------------+-------------------+\n",
      "|Heart_stroke|count(Heart_stroke)|\n",
      "+------------+-------------------+\n",
      "|          No|               3437|\n",
      "|         yes|               3437|\n",
      "+------------+-------------------+\n",
      "\n"
     ]
    },
    {
     "name": "stderr",
     "output_type": "stream",
     "text": [
      "23/10/12 19:15:24 WARN DAGScheduler: Broadcasting large task binary with size 2.5 MiB\n",
      "                                                                                \r"
     ]
    },
    {
     "name": "stdout",
     "output_type": "stream",
     "text": [
      "+--------------+---------------------+\n",
      "|BMI_Categories|count(BMI_Categories)|\n",
      "+--------------+---------------------+\n",
      "| Normal Weight|                 2847|\n",
      "|    Overweight|                 2974|\n",
      "|   Underweight|                  152|\n",
      "|         Obese|                  901|\n",
      "+--------------+---------------------+\n",
      "\n",
      "+-----------+-----------------+\n",
      "| Age_Groups|count(Age_Groups)|\n",
      "+-----------+-----------------+\n",
      "|     Senior|             1122|\n",
      "|Middle-Aged|             5752|\n",
      "+-----------+-----------------+\n",
      "\n"
     ]
    },
    {
     "name": "stderr",
     "output_type": "stream",
     "text": [
      "23/10/12 19:15:26 WARN DAGScheduler: Broadcasting large task binary with size 3.4 MiB\n",
      "                                                                                \r"
     ]
    },
    {
     "name": "stdout",
     "output_type": "stream",
     "text": [
      "+------------------+-------------------+\n",
      "|      BP_Composite|count(BP_Composite)|\n",
      "+------------------+-------------------+\n",
      "|1.5942028985507246|                  4|\n",
      "|1.5491329479768785|                  2|\n",
      "|1.5294117647058822|                  7|\n",
      "| 1.763157894736842|                  1|\n",
      "|1.4720496894409938|                  1|\n",
      "| 1.449438202247191|                  2|\n",
      "|1.9135802469135803|                  2|\n",
      "|1.6264367816091954|                  1|\n",
      "|1.7883211678832116|                  1|\n",
      "|1.5223880597014925|                  1|\n",
      "|1.6319444444444444|                  2|\n",
      "|1.3026315789473684|                  1|\n",
      "|1.5268817204301075|                  3|\n",
      "|1.7903225806451613|                  1|\n",
      "|1.4036144578313252|                  1|\n",
      "|1.8214285714285714|                  2|\n",
      "|             1.325|                  1|\n",
      "|1.6521739130434783|                  6|\n",
      "| 1.681159420289855|                 10|\n",
      "|1.5569620253164558|                 14|\n",
      "+------------------+-------------------+\n",
      "only showing top 20 rows\n",
      "\n",
      "+--------------------+--------------------+\n",
      "|       BP_Categories|count(BP_Categories)|\n",
      "+--------------------+--------------------+\n",
      "|Hypertension Stage 1|                3042|\n",
      "|Hypertension Stage 2|                1679|\n",
      "|              Normal|                1465|\n",
      "|            Elevated|                 688|\n",
      "+--------------------+--------------------+\n",
      "\n"
     ]
    }
   ],
   "source": [
    "from pyspark.sql.functions import udf, count, col, when\n",
    "from pyspark.sql.types import StringType\n",
    "\n",
    "data_resampled = spark.createDataFrame(data_resampled)\n",
    "\n",
    "# 1. Value counts for Heart_stroke (assuming Heart_stroke is the target column in data_resampled)\n",
    "data_resampled.groupBy(\"Heart_stroke\").agg(count(\"Heart_stroke\")).show()\n",
    "\n",
    "\n",
    "def bmi_categories(bmi):\n",
    "    if bmi < 18.5:\n",
    "        return 'Underweight'\n",
    "    elif 18.5 <= bmi < 25:\n",
    "        return 'Normal Weight'\n",
    "    elif 25 <= bmi < 30:\n",
    "        return 'Overweight'\n",
    "    else:\n",
    "        return 'Obese'\n",
    "\n",
    "def age_groups(age):\n",
    "    if age < 30:\n",
    "        return 'Young Adult'\n",
    "    elif 30 <= age <= 60:\n",
    "        return 'Middle-Aged'\n",
    "    else:\n",
    "        return 'Senior'\n",
    "\n",
    "\n",
    "def bp_categories(sysBP, diaBP):\n",
    "    if sysBP < 120 and diaBP < 80:\n",
    "        return 'Normal'\n",
    "    elif 120 <= sysBP < 130 and diaBP < 80:\n",
    "        return 'Elevated'\n",
    "    elif 130 <= sysBP < 140 or 80 <= diaBP < 90:\n",
    "        return 'Hypertension Stage 1'\n",
    "    else:\n",
    "        return 'Hypertension Stage 2'\n",
    "    \n",
    "    from pyspark.sql.functions import udf, count, col, when\n",
    "from pyspark.sql.types import StringType\n",
    "\n",
    "from pyspark.sql.functions import udf, count, col, when\n",
    "from pyspark.sql.types import StringType\n",
    "\n",
    "\n",
    "# Create BMI Categories\n",
    "bmi_udf = udf(bmi_categories, StringType())\n",
    "data_resampled = data_resampled.withColumn(\"BMI_Categories\", bmi_udf(data_resampled[\"BMI\"]))\n",
    "data_resampled.groupBy(\"BMI_Categories\").agg(count(\"BMI_Categories\")).show()\n",
    "\n",
    "# Create Age Groups\n",
    "age_udf = udf(age_groups, StringType())\n",
    "data_resampled = data_resampled.withColumn(\"Age_Groups\", age_udf(data_resampled[\"age\"]))\n",
    "data_resampled.groupBy(\"Age_Groups\").agg(count(\"Age_Groups\")).show()\n",
    "\n",
    "# Construct Blood Pressure Composite\n",
    "data_resampled = data_resampled.withColumn(\"BP_Composite\", data_resampled[\"sysBP\"] / data_resampled[\"diaBP\"])\n",
    "data_resampled.groupBy(\"BP_Composite\").agg(count(\"BP_Composite\")).show()\n",
    "\n",
    "# Create Blood Pressure Categories\n",
    "def bp_categories(sysBP, diaBP):\n",
    "    if sysBP < 120 and diaBP < 80:\n",
    "        return 'Normal'\n",
    "    elif 120 <= sysBP < 130 and diaBP < 80:\n",
    "        return 'Elevated'\n",
    "    elif 130 <= sysBP < 140 or 80 <= diaBP < 90:\n",
    "        return 'Hypertension Stage 1'\n",
    "    else:\n",
    "        return 'Hypertension Stage 2'\n",
    "\n",
    "bp_udf = udf(bp_categories, StringType())\n",
    "data_resampled = data_resampled.withColumn(\"BP_Categories\", bp_udf(data_resampled[\"sysBP\"], data_resampled[\"diaBP\"]))\n",
    "data_resampled.groupBy(\"BP_Categories\").agg(count(\"BP_Categories\")).show()\n",
    "\n",
    "# Splitting and merging datasets\n",
    "data_random_half_1, data_random_half_2 = data_resampled.randomSplit([0.5, 0.5], seed=666)\n",
    "merged_random_data = data_random_half_1.union(data_random_half_2)\n"
   ]
  },
  {
   "cell_type": "code",
   "execution_count": 43,
   "id": "fa2ef9d4",
   "metadata": {},
   "outputs": [
    {
     "name": "stdout",
     "output_type": "stream",
     "text": [
      "root\n",
      " |-- Gender: string (nullable = true)\n",
      " |-- age: double (nullable = true)\n",
      " |-- currentSmoker: long (nullable = true)\n",
      " |-- cigsPerDay: long (nullable = true)\n",
      " |-- prevalentHyp: long (nullable = true)\n",
      " |-- diabetes: string (nullable = true)\n",
      " |-- totChol: long (nullable = true)\n",
      " |-- sysBP: double (nullable = true)\n",
      " |-- diaBP: double (nullable = true)\n",
      " |-- BMI: double (nullable = true)\n",
      " |-- glucose: long (nullable = true)\n",
      " |-- Heart_stroke: string (nullable = true)\n",
      " |-- BMI_Categories: string (nullable = true)\n",
      " |-- Age_Groups: string (nullable = true)\n",
      " |-- BP_Composite: double (nullable = true)\n",
      " |-- Gender_indexed: double (nullable = false)\n",
      " |-- education_indexed: double (nullable = false)\n",
      " |-- BPMeds_indexed: double (nullable = false)\n",
      " |-- diabetes_indexed: double (nullable = false)\n",
      " |-- BMI_Categories_indexed: double (nullable = false)\n",
      " |-- Age_Groups_indexed: double (nullable = false)\n",
      " |-- BP_Categories_indexed: double (nullable = false)\n",
      " |-- Heart_stroke_indexed: double (nullable = false)\n",
      " |-- features: vector (nullable = true)\n",
      " |-- log_BP_Composite: double (nullable = true)\n",
      "\n"
     ]
    }
   ],
   "source": [
    "data_assembled.printSchema()"
   ]
  },
  {
   "cell_type": "code",
   "execution_count": 15,
   "id": "f7221218",
   "metadata": {},
   "outputs": [],
   "source": [
    "from pyspark.sql.types import StringType\n",
    "\n",
    "data1 = data_resampled.withColumn(\"diabetes\", col(\"diabetes\").cast(StringType())) \\\n",
    "                      .withColumn(\"BPMeds\", col(\"BPMeds\").cast(StringType()))\n"
   ]
  },
  {
   "cell_type": "code",
   "execution_count": 16,
   "id": "777b0589",
   "metadata": {},
   "outputs": [],
   "source": [
    "from pyspark.sql.types import FloatType, DoubleType, IntegerType, StringType\n",
    "\n",
    "numerical_cols = [col.name for col in data1.schema if col.dataType in [FloatType(), DoubleType(), IntegerType()]]\n",
    "categorical_cols = [col.name for col in data1.schema if col.dataType == StringType()]\n",
    "\n",
    "categorical_cols.remove(\"Heart_stroke\")\n",
    "\n"
   ]
  },
  {
   "cell_type": "code",
   "execution_count": 17,
   "id": "221f13d1",
   "metadata": {},
   "outputs": [],
   "source": [
    "from pyspark.ml.feature import StringIndexer\n",
    "\n",
    "for col in categorical_cols:\n",
    "    indexer = StringIndexer(inputCol=col, outputCol=f\"{col}_indexed\")\n",
    "    data1 = indexer.fit(data1).transform(data1)\n"
   ]
  },
  {
   "cell_type": "code",
   "execution_count": 18,
   "id": "f3346801",
   "metadata": {},
   "outputs": [
    {
     "name": "stderr",
     "output_type": "stream",
     "text": [
      "/home/ubuntu/.local/lib/python3.10/site-packages/pyspark/sql/context.py:125: FutureWarning: Deprecated in 3.0.0. Use SparkSession.builder.getOrCreate() instead.\n",
      "  warnings.warn(\n"
     ]
    },
    {
     "data": {
      "text/plain": [
       "Row(pValues=DenseVector([0.0, 0.0, 0.0, 0.0, 0.0, 0.0, 0.0]), degreesOfFreedom=[1, 4, 1, 1, 3, 1, 3], statistics=DenseVector([154.8785, 94.9507, 45.8089, 53.2059, 74.1358, 170.8656, 223.3984]))"
      ]
     },
     "execution_count": 18,
     "metadata": {},
     "output_type": "execute_result"
    }
   ],
   "source": [
    "from pyspark.ml.feature import StringIndexer\n",
    "from pyspark.ml.stat import ChiSquareTest\n",
    "from pyspark.ml.feature import VectorAssembler\n",
    "\n",
    "indexed_data = data1\n",
    "\n",
    "for col in categorical_cols:\n",
    "    indexed_col_name = f\"{col}_indexed\"\n",
    "    if indexed_col_name not in indexed_data.columns:\n",
    "        indexer = StringIndexer(inputCol=col, outputCol=indexed_col_name)\n",
    "        indexed_data = indexer.fit(indexed_data).transform(indexed_data)\n",
    "\n",
    "categorical_cols_indexed = [f\"{col}_indexed\" for col in categorical_cols]\n",
    "\n",
    "heart_stroke_indexer = StringIndexer(inputCol=\"Heart_stroke\", outputCol=\"Heart_stroke_indexed\")\n",
    "indexed_data = heart_stroke_indexer.fit(indexed_data).transform(indexed_data)\n",
    "\n",
    "assembler = VectorAssembler(inputCols=categorical_cols_indexed, outputCol=\"features\")\n",
    "data_assembled = assembler.transform(indexed_data)\n",
    "\n",
    "\n",
    "chi = ChiSquareTest.test(data_assembled, \"features\", \"Heart_stroke_indexed\").head()\n",
    "chi\n",
    "\n"
   ]
  },
  {
   "cell_type": "code",
   "execution_count": 75,
   "id": "e0a8a9e1",
   "metadata": {},
   "outputs": [
    {
     "data": {
      "image/png": "[encoded data removed]",
      "text/plain": [
       "<Figure size 432x288 with 1 Axes>"
      ]
     },
     "metadata": {
      "needs_background": "light"
     },
     "output_type": "display_data"
    },
    {
     "data": {
      "image/png": "[encoded data removed]",
      "text/plain": [
       "<Figure size 432x288 with 1 Axes>"
      ]
     },
     "metadata": {
      "needs_background": "light"
     },
     "output_type": "display_data"
    }
   ],
   "source": [
    "from pyspark.ml.feature import StringIndexer, OneHotEncoder, VectorAssembler\n",
    "from pyspark.ml.classification import LogisticRegression\n",
    "from pyspark.ml import Pipeline\n",
    "from pyspark.ml.evaluation import BinaryClassificationEvaluator, MulticlassClassificationEvaluator\n",
    "from pyspark.sql.functions import log10, col\n",
    "import matplotlib.pyplot as plt\n",
    "\n",
    "# 1. Visualize distribution of BP_Composite\n",
    "bp_data = data_assembled.select('BP_Composite').rdd.flatMap(lambda x: x).collect()\n",
    "plt.hist(bp_data, bins=50, color='skyblue', edgecolor='black')\n",
    "plt.title('Distribution of BP_Composite Before Transformation')\n",
    "plt.show()\n",
    "\n",
    "# Transforming the column\n",
    "data_assembled = data_assembled.withColumn(\"log_BP_Composite\", log10(col(\"BP_Composite\")))\n",
    "log_bp_data = data_assembled.select('log_BP_Composite').rdd.flatMap(lambda x: x).collect()\n",
    "\n",
    "plt.hist(log_bp_data, bins=50, color='skyblue', edgecolor='black')\n",
    "plt.title('Distribution of log_BP_Composite After Transformation')\n",
    "plt.show()\n",
    "\n",
    "# 2. Drop columns\n",
    "columns_to_drop = ['heartRate', 'BPMeds', 'BP_Categories', 'education']\n",
    "data_assembled = data_assembled.drop(*columns_to_drop)\n",
    "\n"
   ]
  },
  {
   "cell_type": "code",
   "execution_count": null,
   "id": "35f46e7b",
   "metadata": {},
   "outputs": [],
   "source": []
  },
  {
   "cell_type": "code",
   "execution_count": 108,
   "id": "88af037f",
   "metadata": {},
   "outputs": [
    {
     "name": "stdout",
     "output_type": "stream",
     "text": [
      "[Row(Heart_stroke_indexed=0.0, prediction=0.0, count=642), Row(Heart_stroke_indexed=0.0, prediction=1.0, count=337), Row(Heart_stroke_indexed=1.0, prediction=0.0, count=339), Row(Heart_stroke_indexed=1.0, prediction=1.0, count=669)]\n",
      "AUC: 0.7230947111565055\n",
      "Accuracy: 0.660\n",
      "Recall: 0.664\n"
     ]
    }
   ],
   "source": [
    "train, test = data_assembled.randomSplit([0.7, 0.3], seed=666)\n",
    "\n",
    "# Define the stages of the pipeline\n",
    "stages = []\n",
    "\n",
    "# Convert label into label indices using the StringIndexer if it doesn't exist\n",
    "if \"Heart_stroke_indexed\" not in data_assembled.columns:\n",
    "    label_stringIdx = StringIndexer(inputCol=\"Heart_stroke\", outputCol=\"Heart_stroke_indexed\")\n",
    "    stages += [label_stringIdx]\n",
    "\n",
    "# Convert all categorical features to index using StringIndexer\n",
    "categorical_columns = [\"Gender\", \"diabetes\", \"BMI_Categories\", \"Age_Groups\"]\n",
    "\n",
    "for categorical_col in categorical_columns:\n",
    "    # Category Indexing with StringIndexer\n",
    "    stringIndexer = StringIndexer(inputCol=categorical_col, outputCol=categorical_col + \"Index\")\n",
    "    # Use OneHotEncoder to convert categorical variables into binary SparseVectors\n",
    "    encoder = OneHotEncoder(inputCols=[stringIndexer.getOutputCol()], outputCols=[categorical_col + \"classVec\"])\n",
    "    stages += [stringIndexer, encoder]\n",
    "\n",
    "\n",
    "# Transform all features into a vector using VectorAssembler with a new output column\n",
    "assemblerInputs = [c + \"classVec\" for c in categorical_columns] + [\"age\", \"currentSmoker\", \"cigsPerDay\", \"prevalentHyp\", \"totChol\", \"sysBP\", \"diaBP\", \"BMI\", \"glucose\", \"BP_Composite\", \"log_BP_Composite\"]\n",
    "assembler = VectorAssembler(inputCols=assemblerInputs, outputCol=\"assembled_features\")\n",
    "stages += [assembler]\n",
    "\n",
    "# Adjust the LogisticRegression to use the new features column\n",
    "lr = LogisticRegression(featuresCol=\"assembled_features\", labelCol=\"Heart_stroke_indexed\",elasticNetParam=1.0, maxIter=10)\n",
    "stages += [lr]\n",
    "\n",
    "\n",
    "\n",
    "# Create and fit the pipeline\n",
    "pipeline = Pipeline(stages=stages)\n",
    "model = pipeline.fit(train)\n",
    "\n",
    "# Evaluate logistic regression\n",
    "lr_predictions = model.transform(test)\n",
    "lr_confusion_matrix = lr_predictions.groupBy(\"Heart_stroke_indexed\", \"prediction\").count().orderBy(\"Heart_stroke_indexed\", \"prediction\").collect()\n",
    "\n",
    "TP = lr_confusion_matrix[3][2]  \n",
    "FN = lr_confusion_matrix[2][2] \n",
    "lr_recall = TP / (TP + FN)\n",
    "\n",
    "lr_accuracy = evaluator.evaluate(lr_predictions)\n",
    "\n",
    "binary_evaluator = BinaryClassificationEvaluator(labelCol=\"Heart_stroke_indexed\")\n",
    "auc_lr = binary_evaluator.evaluate(lr_predictions, {binary_evaluator.metricName: \"areaUnderROC\"})\n",
    "\n",
    "print(lr_confusion_matrix)\n",
    "\n",
    "print(\"AUC:\", auc_lr)\n",
    "print(f\"Accuracy: {lr_accuracy:.3f}\")\n",
    "print(f\"Recall: {lr_recall:.3f}\")\n"
   ]
  },
  {
   "cell_type": "code",
   "execution_count": 66,
   "id": "f3b76f9f",
   "metadata": {},
   "outputs": [
    {
     "data": {
      "image/png": "[encoded data removed]",
      "text/plain": [
       "<Figure size 864x576 with 1 Axes>"
      ]
     },
     "metadata": {
      "needs_background": "light"
     },
     "output_type": "display_data"
    },
    {
     "name": "stdout",
     "output_type": "stream",
     "text": [
      "[Row(Heart_stroke_indexed=0.0, prediction=0.0, count=695), Row(Heart_stroke_indexed=0.0, prediction=1.0, count=284), Row(Heart_stroke_indexed=1.0, prediction=0.0, count=458), Row(Heart_stroke_indexed=1.0, prediction=1.0, count=550)]\n",
      "AUC: 0.5191790497268025\n",
      "Accuracy: 0.627\n",
      "Recall: 0.546\n"
     ]
    }
   ],
   "source": [
    "from pyspark.ml.classification import DecisionTreeClassifier\n",
    "from pyspark.mllib.evaluation import MulticlassMetrics\n",
    "\n",
    "# Define the Decision Tree model\n",
    "dt = DecisionTreeClassifier(featuresCol=\"features\", labelCol=\"Heart_stroke_indexed\", maxDepth=5)\n",
    "\n",
    "# Fit the model\n",
    "dt_model = dt.fit(train)\n",
    "\n",
    "# Predictions\n",
    "dt_predictions = dt_model.transform(test)\n",
    "\n",
    "# Get feature importances\n",
    "feature_importances = dt_model.featureImportances\n",
    "\n",
    "# Extracting the names of the features and their importances\n",
    "features_list = assemblerInputs\n",
    "importances_list = feature_importances.toArray()\n",
    "\n",
    "# Pairing feature names with their importance scores\n",
    "importance_dict = dict(zip(features_list, importances_list))\n",
    "sorted_importance = sorted(importance_dict.items(), key=lambda x: x[1], reverse=True)\n",
    "\n",
    "# Extracting names and scores for plotting\n",
    "features_names, importance_scores = zip(*sorted_importance)\n",
    "\n",
    "# Plotting\n",
    "plt.figure(figsize=(12, 8))\n",
    "plt.barh(features_names, importance_scores, align='center')\n",
    "plt.gca().invert_yaxis()  # to display the most important feature at the top\n",
    "plt.xlabel('Importance Score')\n",
    "plt.title('Feature Importances using Decision Tree')\n",
    "plt.show()\n",
    "\n",
    "from pyspark.ml.evaluation import MulticlassClassificationEvaluator\n",
    "\n",
    "dt_confusion_matrix = dt_predictions.groupBy(\"Heart_stroke_indexed\", \"prediction\").count().orderBy(\"Heart_stroke_indexed\", \"prediction\").collect()\n",
    "\n",
    "TP = dt_confusion_matrix[3][2]  \n",
    "FN = dt_confusion_matrix[2][2] \n",
    "dt_recall = TP / (TP + FN)\n",
    "\n",
    "dt_accuracy = evaluator.evaluate(dt_predictions)\n",
    "\n",
    "binary_evaluator = BinaryClassificationEvaluator(labelCol=\"Heart_stroke_indexed\")\n",
    "auc = binary_evaluator.evaluate(dt_predictions, {binary_evaluator.metricName: \"areaUnderROC\"})\n",
    "\n",
    "print(dt_confusion_matrix)\n",
    "\n",
    "print(\"AUC:\", auc)\n",
    "print(f\"Accuracy: {dt_accuracy:.3f}\")\n",
    "print(f\"Recall: {dt_recall:.3f}\")\n",
    "\n"
   ]
  },
  {
   "cell_type": "code",
   "execution_count": 23,
   "id": "7c9639e2",
   "metadata": {},
   "outputs": [
    {
     "name": "stdout",
     "output_type": "stream",
     "text": [
      "DecisionTreeClassificationModel: uid=DecisionTreeClassifier_faab6d26043a, depth=5, numNodes=39, numClasses=2, numFeatures=7\n",
      "  If (feature 5 in {1.0})\n",
      "   If (feature 4 in {3.0})\n",
      "    If (feature 6 in {2.0,3.0})\n",
      "     If (feature 1 in {1.0})\n",
      "      Predict: 0.0\n",
      "     Else (feature 1 not in {1.0})\n",
      "      Predict: 1.0\n",
      "    Else (feature 6 not in {2.0,3.0})\n",
      "     Predict: 1.0\n",
      "   Else (feature 4 not in {3.0})\n",
      "    If (feature 6 in {1.0,2.0,3.0})\n",
      "     If (feature 1 in {4.0})\n",
      "      Predict: 0.0\n",
      "     Else (feature 1 not in {4.0})\n",
      "      Predict: 1.0\n",
      "    Else (feature 6 not in {1.0,2.0,3.0})\n",
      "     If (feature 4 in {2.0})\n",
      "      If (feature 2 in {1.0})\n",
      "       Predict: 0.0\n",
      "      Else (feature 2 not in {1.0})\n",
      "       Predict: 1.0\n",
      "     Else (feature 4 not in {2.0})\n",
      "      Predict: 1.0\n",
      "  Else (feature 5 not in {1.0})\n",
      "   If (feature 0 in {0.0})\n",
      "    If (feature 6 in {2.0,3.0})\n",
      "     If (feature 1 in {1.0,2.0,3.0,4.0})\n",
      "      If (feature 4 in {2.0,3.0})\n",
      "       Predict: 1.0\n",
      "      Else (feature 4 not in {2.0,3.0})\n",
      "       Predict: 0.0\n",
      "     Else (feature 1 not in {1.0,2.0,3.0,4.0})\n",
      "      Predict: 0.0\n",
      "    Else (feature 6 not in {2.0,3.0})\n",
      "     If (feature 2 in {1.0})\n",
      "      Predict: 1.0\n",
      "     Else (feature 2 not in {1.0})\n",
      "      If (feature 3 in {1.0})\n",
      "       Predict: 1.0\n",
      "      Else (feature 3 not in {1.0})\n",
      "       Predict: 0.0\n",
      "   Else (feature 0 not in {0.0})\n",
      "    If (feature 6 in {2.0,3.0})\n",
      "     If (feature 3 in {1.0})\n",
      "      Predict: 1.0\n",
      "     Else (feature 3 not in {1.0})\n",
      "      If (feature 6 in {3.0})\n",
      "       Predict: 1.0\n",
      "      Else (feature 6 not in {3.0})\n",
      "       Predict: 0.0\n",
      "    Else (feature 6 not in {2.0,3.0})\n",
      "     If (feature 6 in {1.0})\n",
      "      Predict: 1.0\n",
      "     Else (feature 6 not in {1.0})\n",
      "      If (feature 1 in {1.0,2.0,3.0,4.0})\n",
      "       Predict: 0.0\n",
      "      Else (feature 1 not in {1.0,2.0,3.0,4.0})\n",
      "       Predict: 1.0\n",
      "\n"
     ]
    }
   ],
   "source": [
    "tree_string = dt_model.toDebugString\n",
    "print(tree_string)\n"
   ]
  },
  {
   "cell_type": "code",
   "execution_count": 64,
   "id": "aeb4bc84",
   "metadata": {},
   "outputs": [
    {
     "name": "stderr",
     "output_type": "stream",
     "text": [
      "23/10/12 19:49:06 WARN DAGScheduler: Broadcasting large task binary with size 1199.1 KiB\n",
      "23/10/12 19:49:07 WARN DAGScheduler: Broadcasting large task binary with size 2.4 MiB\n",
      "23/10/12 19:49:11 WARN DAGScheduler: Broadcasting large task binary with size 4.6 MiB\n",
      "23/10/12 19:49:14 WARN DAGScheduler: Broadcasting large task binary with size 1142.6 KiB\n",
      "23/10/12 19:49:16 WARN DAGScheduler: Broadcasting large task binary with size 5.3 MiB\n",
      "23/10/12 19:49:18 WARN DAGScheduler: Broadcasting large task binary with size 5.3 MiB\n",
      "23/10/12 19:49:20 WARN DAGScheduler: Broadcasting large task binary with size 5.3 MiB\n",
      "23/10/12 19:49:21 WARN DAGScheduler: Broadcasting large task binary with size 5.3 MiB\n",
      "23/10/12 19:49:22 WARN DAGScheduler: Broadcasting large task binary with size 5.3 MiB\n"
     ]
    },
    {
     "name": "stdout",
     "output_type": "stream",
     "text": [
      "[Row(Heart_stroke_indexed=0.0, prediction=0.0, count=616), Row(Heart_stroke_indexed=0.0, prediction=1.0, count=363), Row(Heart_stroke_indexed=1.0, prediction=0.0, count=376), Row(Heart_stroke_indexed=1.0, prediction=1.0, count=632)]\n",
      "AUC: 0.5191790497268025\n",
      "Accuracy: 0.628\n",
      "Recall: 0.627\n"
     ]
    }
   ],
   "source": [
    "from pyspark.ml.classification import RandomForestClassifier\n",
    "from pyspark.ml.evaluation import MulticlassClassificationEvaluator\n",
    "from pyspark.sql import SparkSession\n",
    "\n",
    "\n",
    "rf = RandomForestClassifier(featuresCol=\"features\", labelCol=\"Heart_stroke_indexed\", numTrees=1000)\n",
    "rf_model = rf.fit(train)\n",
    "\n",
    "rf_predictions = rf_model.transform(test)\n",
    "\n",
    "evaluator = MulticlassClassificationEvaluator(labelCol=\"Heart_stroke_indexed\", predictionCol=\"prediction\", metricName=\"accuracy\")\n",
    "rf_accuracy = evaluator.evaluate(rf_predictions)\n",
    "\n",
    "rf_confusion_matrix = rf_predictions.groupBy(\"Heart_stroke_indexed\", \"prediction\").count().orderBy(\"Heart_stroke_indexed\", \"prediction\").collect()\n",
    "\n",
    "TP = rf_confusion_matrix[3][2]  \n",
    "FN = rf_confusion_matrix[2][2] \n",
    "rf_recall = TP / (TP + FN)\n",
    "auc = binary_evaluator.evaluate(dt_predictions, {binary_evaluator.metricName: \"areaUnderROC\"})\n",
    "\n",
    "print(rf_confusion_matrix)\n",
    "\n",
    "print(\"AUC:\", auc)\n",
    "print(f\"Accuracy: {rf_accuracy:.3f}\")\n",
    "print(f\"Recall: {rf_recall:.3f}\")\n",
    "\n",
    "\n"
   ]
  },
  {
   "cell_type": "code",
   "execution_count": 62,
   "id": "fafcf688",
   "metadata": {},
   "outputs": [
    {
     "data": {
      "image/png": "[encoded data removed]",
      "text/plain": [
       "<Figure size 864x576 with 1 Axes>"
      ]
     },
     "metadata": {
      "needs_background": "light"
     },
     "output_type": "display_data"
    }
   ],
   "source": [
    "# Get feature importances\n",
    "feature_importances = rf_model.featureImportances\n",
    "\n",
    "# Extracting the names of the features and their importances\n",
    "features_list = assemblerInputs\n",
    "importances_list = feature_importances.toArray()\n",
    "\n",
    "# Pairing feature names with their importance scores\n",
    "importance_dict = dict(zip(features_list, importances_list))\n",
    "sorted_importance = sorted(importance_dict.items(), key=lambda x: x[1], reverse=True)\n",
    "\n",
    "# Extracting names and scores for plotting\n",
    "features_names, importance_scores = zip(*sorted_importance)\n",
    "\n",
    "# Plotting\n",
    "plt.figure(figsize=(12, 8))\n",
    "plt.barh(features_names, importance_scores, align='center')\n",
    "plt.gca().invert_yaxis()  # to display the most important feature at the top\n",
    "plt.xlabel('Importance Score')\n",
    "plt.title('Feature Importances using Decision Tree')\n",
    "plt.show()"
   ]
  },
  {
   "cell_type": "code",
   "execution_count": 92,
   "id": "066d056b",
   "metadata": {},
   "outputs": [
    {
     "name": "stdout",
     "output_type": "stream",
     "text": [
      "{Param(parent='LogisticRegression_a8ac4bef5939', name='aggregationDepth', doc='suggested depth for treeAggregate (>= 2).'): 2, Param(parent='LogisticRegression_a8ac4bef5939', name='elasticNetParam', doc='the ElasticNet mixing parameter, in range [0, 1]. For alpha = 0, the penalty is an L2 penalty. For alpha = 1, it is an L1 penalty.'): 1.0, Param(parent='LogisticRegression_a8ac4bef5939', name='family', doc='The name of family which is a description of the label distribution to be used in the model. Supported options: auto, binomial, multinomial'): 'auto', Param(parent='LogisticRegression_a8ac4bef5939', name='featuresCol', doc='features column name.'): 'features', Param(parent='LogisticRegression_a8ac4bef5939', name='fitIntercept', doc='whether to fit an intercept term.'): True, Param(parent='LogisticRegression_a8ac4bef5939', name='labelCol', doc='label column name.'): 'Heart_stroke_indexed', Param(parent='LogisticRegression_a8ac4bef5939', name='maxBlockSizeInMB', doc='maximum memory in MB for stacking input data into blocks. Data is stacked within partitions. If more than remaining data size in a partition then it is adjusted to the data size. Default 0.0 represents choosing optimal value, depends on specific algorithm. Must be >= 0.'): 0.0, Param(parent='LogisticRegression_a8ac4bef5939', name='maxIter', doc='max number of iterations (>= 0).'): 10, Param(parent='LogisticRegression_a8ac4bef5939', name='predictionCol', doc='prediction column name.'): 'prediction', Param(parent='LogisticRegression_a8ac4bef5939', name='probabilityCol', doc='Column name for predicted class conditional probabilities. Note: Not all models output well-calibrated probability estimates! These probabilities should be treated as confidences, not precise probabilities.'): 'probability', Param(parent='LogisticRegression_a8ac4bef5939', name='rawPredictionCol', doc='raw prediction (a.k.a. confidence) column name.'): 'rawPrediction', Param(parent='LogisticRegression_a8ac4bef5939', name='regParam', doc='regularization parameter (>= 0).'): 0.01, Param(parent='LogisticRegression_a8ac4bef5939', name='standardization', doc='whether to standardize the training features before fitting the model.'): True, Param(parent='LogisticRegression_a8ac4bef5939', name='threshold', doc='Threshold in binary classification prediction, in range [0, 1]. If threshold and thresholds are both set, they must match.e.g. if threshold is p, then thresholds must be equal to [1-p, p].'): 0.5, Param(parent='LogisticRegression_a8ac4bef5939', name='tol', doc='the convergence tolerance for iterative algorithms (>= 0).'): 1e-06} 0.6094614997483644 0.6934523809523809\n"
     ]
    }
   ],
   "source": [
    "from pyspark.ml.tuning import ParamGridBuilder, CrossValidator\n",
    "from pyspark.ml.evaluation import MulticlassClassificationEvaluator\n",
    "\n",
    "lr = LogisticRegression(featuresCol=\"features\", labelCol=\"Heart_stroke_indexed\")\n",
    "\n",
    "paramGrid = (ParamGridBuilder()\n",
    "             .addGrid(lr.maxIter, [10, 50, 100])\n",
    "             .addGrid(lr.regParam, [0.0001, 0.001, 0.01, 0.1, 1.0])\n",
    "             .addGrid(lr.elasticNetParam, [0.0, 0.5, 1.0])\n",
    "             .addGrid(lr.fitIntercept, [True, False])\n",
    "             .build())\n",
    "\n",
    "crossval = CrossValidator(estimator=lr,\n",
    "                          estimatorParamMaps=paramGrid,\n",
    "                          evaluator=MulticlassClassificationEvaluator(labelCol=\"Heart_stroke_indexed\", metricName=\"f1\"), # f1 is recall in this context\n",
    "                          numFolds=3)\n",
    "\n",
    "# Fit the model\n",
    "cvModel = crossval.fit(train)\n",
    "\n",
    "# Extract the best model and its parameters\n",
    "best_lr_model = cvModel.bestModel\n",
    "best_params = best_lr_model.extractParamMap()\n",
    "\n",
    "# Evaluate the model using the test dataset\n",
    "predictions = best_lr_model.transform(test)\n",
    "evaluator_acc = MulticlassClassificationEvaluator(labelCol=\"Heart_stroke_indexed\", predictionCol=\"prediction\", metricName=\"accuracy\")\n",
    "accuracy = evaluator_acc.evaluate(predictions)\n",
    "\n",
    "confusion_matrix = predictions.groupBy(\"Heart_stroke_indexed\", \"prediction\").count().orderBy(\"Heart_stroke_indexed\", \"prediction\").collect()\n",
    "\n",
    "TP = confusion_matrix[3][2]  \n",
    "FN = confusion_matrix[2][2]\n",
    "recall = TP / (TP + FN)\n",
    "\n",
    "print(best_params, confusion_matrix, accuracy, recall)\n"
   ]
  },
  {
   "cell_type": "code",
   "execution_count": 93,
   "id": "d5b7abfe",
   "metadata": {},
   "outputs": [
    {
     "name": "stdout",
     "output_type": "stream",
     "text": [
      "elasticNetParam: 1.0\n",
      "fitIntercept: True\n",
      "maxIter: 10\n",
      "regParam: 0.01\n"
     ]
    }
   ],
   "source": [
    "# Extracting the hyperparameters from the provided results\n",
    "best_params = {\n",
    "    'elasticNetParam': 1.0,\n",
    "    'fitIntercept': True,\n",
    "    'maxIter': 10,\n",
    "    'regParam': 0.01\n",
    "}\n",
    "\n",
    "for param, value in best_params.items():\n",
    "    print(f\"{param}: {value}\")\n"
   ]
  },
  {
   "cell_type": "code",
   "execution_count": 103,
   "id": "49c39a90",
   "metadata": {},
   "outputs": [
    {
     "name": "stdout",
     "output_type": "stream",
     "text": [
      "Coefficients: [0.5644158351521718,-0.01901390225221497,0.8563999823006023,0.6589028264678002,0.0,0.7780564607207796,-0.04008108715162633]\n",
      "Intercept: -0.40593309904612185\n"
     ]
    },
    {
     "data": {
      "text/plain": [
       "DataFrame[Gender: string, age: double, currentSmoker: bigint, cigsPerDay: bigint, prevalentHyp: bigint, diabetes: string, totChol: bigint, sysBP: double, diaBP: double, BMI: double, glucose: bigint, Heart_stroke: string, BMI_Categories: string, Age_Groups: string, BP_Composite: double, Gender_indexed: double, education_indexed: double, BPMeds_indexed: double, diabetes_indexed: double, BMI_Categories_indexed: double, Age_Groups_indexed: double, BP_Categories_indexed: double, Heart_stroke_indexed: double, features: vector, log_BP_Composite: double]"
      ]
     },
     "execution_count": 103,
     "metadata": {},
     "output_type": "execute_result"
    }
   ],
   "source": [
    "coefficients = best_lr_model.coefficients\n",
    "intercept = best_lr_model.intercept\n",
    "\n",
    "print(\"Coefficients:\", coefficients)\n",
    "print(\"Intercept:\", intercept)\n",
    "\n",
    "train"
   ]
  },
  {
   "cell_type": "code",
   "execution_count": 105,
   "id": "6500f4ae",
   "metadata": {},
   "outputs": [
    {
     "name": "stdout",
     "output_type": "stream",
     "text": [
      "Feature: education, Coefficient: 0.8563999823006023\n",
      "Feature: BPMeds, Coefficient: 0.7780564607207796\n",
      "Feature: currentSmoker, Coefficient: 0.6589028264678002\n",
      "Feature: Gender, Coefficient: 0.5644158351521718\n",
      "Feature: prevalentHyp, Coefficient: -0.04008108715162633\n",
      "Feature: age, Coefficient: -0.01901390225221497\n",
      "Feature: cigsPerDay, Coefficient: 0.0\n"
     ]
    }
   ],
   "source": [
    "# Assuming you have a trained LogisticRegressionModel called 'model'\n",
    "coefficients = best_lr_model.coefficients\n",
    "feature_names = data_resampled.columns  # Replace 'your_dataframe' with your actual DataFrame\n",
    "\n",
    "# Create a dictionary to map coefficients to feature names\n",
    "coefficients_dict = dict(zip(feature_names, coefficients))\n",
    "\n",
    "# Sort coefficients by magnitude (absolute value) in descending order\n",
    "sorted_coefficients = sorted(coefficients_dict.items(), key=lambda x: abs(x[1]), reverse=True)\n",
    "\n",
    "# Print or visualize the sorted coefficients\n",
    "for feature, coef in sorted_coefficients:\n",
    "    print(f\"Feature: {feature}, Coefficient: {coef}\")\n"
   ]
  },
  {
   "cell_type": "code",
   "execution_count": 101,
   "id": "40b49d24",
   "metadata": {},
   "outputs": [
    {
     "data": {
      "image/png": "[encoded data removed]",
      "text/plain": [
       "<Figure size 720x432 with 1 Axes>"
      ]
     },
     "metadata": {
      "needs_background": "light"
     },
     "output_type": "display_data"
    }
   ],
   "source": [
    "import numpy as np\n",
    "import matplotlib.pyplot as plt\n",
    "\n",
    "train, validation, test = data_assembled.randomSplit([0.6, 0.2, 0.2], seed=42)\n",
    "\n",
    "# Initialize lists to store results\n",
    "train_sizes = []\n",
    "train_scores = []\n",
    "val_scores = []\n",
    "\n",
    "# Define increments (e.g., 10% increments of the training data)\n",
    "increments = np.linspace(0.1, 1.0, 10)\n",
    "\n",
    "# Initialize evaluator\n",
    "evaluator = MulticlassClassificationEvaluator(labelCol=\"Heart_stroke_indexed\", predictionCol=\"prediction\", metricName=\"accuracy\")\n",
    "\n",
    "for increment in increments:\n",
    "    # Sample a fraction of the training data\n",
    "    sample_train = train.sample(withReplacement=False, fraction=increment, seed=42)\n",
    "    \n",
    "    # Train the logistic regression model\n",
    "    lr = LogisticRegression(featuresCol=\"features\", labelCol=\"Heart_stroke_indexed\", **best_params)\n",
    "    model = lr.fit(sample_train)\n",
    "    \n",
    "    # Predict and evaluate on the training subset and validation set\n",
    "    train_pred = model.transform(sample_train)\n",
    "    val_pred = model.transform(validation)  # Assuming validation is your validation set\n",
    "    \n",
    "    train_accuracy = evaluator.evaluate(train_pred)\n",
    "    val_accuracy = evaluator.evaluate(val_pred)\n",
    "    \n",
    "    # Store results\n",
    "    train_sizes.append(sample_train.count())\n",
    "    train_scores.append(train_accuracy)\n",
    "    val_scores.append(val_accuracy)\n",
    "\n",
    "# Plot learning curve\n",
    "plt.figure(figsize=(10, 6))\n",
    "plt.plot(train_sizes, train_scores, label='Training score')\n",
    "plt.plot(train_sizes, val_scores, label='Validation score')\n",
    "plt.xlabel('Number of training instances')\n",
    "plt.ylabel('Accuracy')\n",
    "plt.title('Learning Curve')\n",
    "plt.legend()\n",
    "plt.grid(True)\n",
    "plt.show()\n"
   ]
  },
  {
   "cell_type": "code",
   "execution_count": null,
   "id": "e4caa1f2",
   "metadata": {},
   "outputs": [],
   "source": [
    "from pyspark.ml.classification import LogisticRegression\n",
    "\n",
    "# Create a Logistic Regression model with L1 penalty\n",
    "lr = LogisticRegression(featuresCol=\"features\", labelCol=\"Heart_stroke_indexed\", elasticNetParam=1.0, regParam=0.01)\n",
    "\n",
    "# Fit the model to your training data\n",
    "model = lr.fit(train)\n"
   ]
  }
 ],
 "metadata": {
  "kernelspec": {
   "display_name": "Python 3 (ipykernel)",
   "language": "python",
   "name": "python3"
  },
  "language_info": {
   "codemirror_mode": {
    "name": "ipython",
    "version": 3
   },
   "file_extension": ".py",
   "mimetype": "text/x-python",
   "name": "python",
   "nbconvert_exporter": "python",
   "pygments_lexer": "ipython3",
   "version": "3.10.12"
  }
 },
 "nbformat": 4,
 "nbformat_minor": 5
}
